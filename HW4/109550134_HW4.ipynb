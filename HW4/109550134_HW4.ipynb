{
 "cells": [
  {
   "cell_type": "code",
   "execution_count": 3,
   "metadata": {},
   "outputs": [],
   "source": [
    "import numpy as np\n",
    "import pandas as pd\n",
    "from sklearn.svm import SVC, SVR\n",
    "from sklearn.metrics import accuracy_score"
   ]
  },
  {
   "cell_type": "markdown",
   "metadata": {},
   "source": [
    "## Load data"
   ]
  },
  {
   "cell_type": "code",
   "execution_count": 4,
   "metadata": {},
   "outputs": [],
   "source": [
    "x_train = np.load(\"x_train.npy\")\n",
    "y_train = np.load(\"y_train.npy\")\n",
    "x_test = np.load(\"x_test.npy\")\n",
    "# y_test = np.load(\"y_test.npy\")"
   ]
  },
  {
   "cell_type": "code",
   "execution_count": 5,
   "metadata": {},
   "outputs": [
    {
     "name": "stdout",
     "output_type": "stream",
     "text": [
      "(7000, 300)\n"
     ]
    }
   ],
   "source": [
    "# 7000 data with 300 features\n",
    "print(x_train.shape)"
   ]
  },
  {
   "cell_type": "code",
   "execution_count": 6,
   "metadata": {},
   "outputs": [
    {
     "name": "stdout",
     "output_type": "stream",
     "text": [
      "[0 1]\n"
     ]
    }
   ],
   "source": [
    "# It's a binary classification problem \n",
    "print(np.unique(y_train))"
   ]
  },
  {
   "cell_type": "markdown",
   "metadata": {},
   "source": [
    "## Question 1\n",
    "K-fold data partition: Implement the K-fold cross-validation function. Your function should take K as an argument and return a list of lists (len(list) should equal to K), which contains K elements. Each element is a list contains two parts, the first part contains the index of all training folds, e.g. Fold 2 to Fold 5 in split 1. The second part contains the index of validation fold, e.g. Fold 1 in  split 1"
   ]
  },
  {
   "cell_type": "code",
   "execution_count": 20,
   "metadata": {},
   "outputs": [],
   "source": [
    "def cross_validation(x_train, k=5):\n",
    "    index = list(range(k)) * int(len(x_train)/k) # index table\n",
    "    if((len(x_train)%k)!=0): # if not dividable: add index\n",
    "        print(\"not factor \",(len(x_train)%k))\n",
    "        for j in range(len(x_train)%k):\n",
    "            index.append(j)\n",
    "    np.random.shuffle(index) # shuffle\n",
    "    fold = [] # store fold\n",
    "    for i in range(k):\n",
    "        temp_train = []\n",
    "        temp_val = []\n",
    "        for n in range(len(index)):\n",
    "            if(index[n]==i):\n",
    "                temp_val.append(n) # validation data\n",
    "            else:\n",
    "                temp_train.append(n) # train data\n",
    "        fold.append([np.array(temp_train), np.array(temp_val)])\n",
    "    fold = np.array(fold, dtype=object)\n",
    "    return fold"
   ]
  },
  {
   "cell_type": "code",
   "execution_count": 77,
   "metadata": {},
   "outputs": [],
   "source": [
    "kfold_data = cross_validation(x_train, k=10)\n",
    "assert len(kfold_data) == 10 # should contain 10 fold of data\n",
    "assert len(kfold_data[0]) == 2 # each element should contain train fold and validation fold\n",
    "assert kfold_data[0][1].shape[0] == 700 # The number of data in each validation fold should equal to training data divieded by K"
   ]
  },
  {
   "cell_type": "markdown",
   "metadata": {},
   "source": [
    "## example"
   ]
  },
  {
   "cell_type": "code",
   "execution_count": 67,
   "metadata": {},
   "outputs": [
    {
     "name": "stdout",
     "output_type": "stream",
     "text": [
      "Split: 1, Training index: [ 0  1  2  3  4  6  7 10 11 12 13 14 15 16 17 18], Validation index: [ 5  8  9 19]\n",
      "Split: 2, Training index: [ 0  1  3  5  6  8  9 10 11 12 13 14 15 16 17 19], Validation index: [ 2  4  7 18]\n",
      "Split: 3, Training index: [ 0  1  2  4  5  6  7  8  9 10 11 12 15 17 18 19], Validation index: [ 3 13 14 16]\n",
      "Split: 4, Training index: [ 0  2  3  4  5  7  8  9 10 12 13 14 16 17 18 19], Validation index: [ 1  6 11 15]\n",
      "Split: 5, Training index: [ 1  2  3  4  5  6  7  8  9 11 13 14 15 16 18 19], Validation index: [ 0 10 12 17]\n"
     ]
    }
   ],
   "source": [
    "from sklearn.model_selection import KFold\n",
    "\n",
    "X = np.arange(20)\n",
    "kf = KFold(n_splits=5, shuffle=True)\n",
    "kfold_data= []\n",
    "for i, (train_index, val_index) in enumerate(kf.split(X)):\n",
    "    print(\"Split: %s, Training index: %s, Validation index: %s\" % (i+1, train_index, val_index))\n",
    "    kfold_data.append([train_index, val_index])"
   ]
  },
  {
   "cell_type": "code",
   "execution_count": 68,
   "metadata": {},
   "outputs": [],
   "source": [
    "assert len(kfold_data) == 5 # should contain 5 fold of data\n",
    "assert len(kfold_data[0]) == 2 # each element should contains index of training fold and validation fold\n",
    "assert kfold_data[0][1].shape[0] == 4 # The number of data in each validation fold should equal to training data divieded by K"
   ]
  },
  {
   "cell_type": "markdown",
   "metadata": {},
   "source": [
    "## Question 2\n",
    "Using sklearn.svm.SVC to train a classifier on the provided train set and conduct the grid search of “C” and “gamma” to find the best parameters by cross-validation."
   ]
  },
  {
   "cell_type": "code",
   "execution_count": 69,
   "metadata": {},
   "outputs": [],
   "source": [
    "clf = SVC(C=1.0, kernel='rbf', gamma=0.01)"
   ]
  },
  {
   "cell_type": "code",
   "execution_count": 78,
   "metadata": {},
   "outputs": [
    {
     "name": "stdout",
     "output_type": "stream",
     "text": [
      "[[array([   0,    1,    2, ..., 6996, 6997, 6998])\n",
      "  array([   7,    8,   20, ..., 6988, 6995, 6999])]\n",
      " [array([   1,    2,    3, ..., 6996, 6998, 6999])\n",
      "  array([   0,    6,   18, ..., 6992, 6993, 6997])]\n",
      " [array([   0,    3,    4, ..., 6997, 6998, 6999])\n",
      "  array([   1,    2,   12, ..., 6990, 6991, 6994])]\n",
      " [array([   0,    1,    2, ..., 6995, 6997, 6999])\n",
      "  array([   5,    9,   10, ..., 6984, 6996, 6998])]\n",
      " [array([   0,    1,    2, ..., 6997, 6998, 6999])\n",
      "  array([   3,    4,   14, ..., 6985, 6987, 6989])]]\n"
     ]
    }
   ],
   "source": [
    "x = cross_validation(x_train, k=5) \n",
    "print(x)"
   ]
  },
  {
   "cell_type": "code",
   "execution_count": 122,
   "metadata": {},
   "outputs": [],
   "source": [
    "def index_transformer(cv_list, x_data, y_data): # get data by index table \n",
    "    data_train = []\n",
    "    data_val = []\n",
    "    for i in cv_list:\n",
    "        train_x = [x_data[n] for n in i[0]]\n",
    "        train_y = [y_data[n] for n in i[0]]\n",
    "        val_x = [x_data[n] for n in i[1]]\n",
    "        val_y = [y_data[n] for n in i[1]]\n",
    "        train_x = np.array(train_x)\n",
    "        train_y = np.array(train_y)\n",
    "        val_x = np.array(val_x)\n",
    "        val_y = np.array(val_y)\n",
    "        data_train.append([train_x, train_y])\n",
    "        data_val.append([val_x, val_y])\n",
    "        print(train_x.shape)\n",
    "    return data_train, data_val\n"
   ]
  },
  {
   "cell_type": "code",
   "execution_count": 123,
   "metadata": {},
   "outputs": [
    {
     "name": "stdout",
     "output_type": "stream",
     "text": [
      "(5600, 300)\n",
      "(5600, 300)\n",
      "(5600, 300)\n",
      "(5600, 300)\n",
      "(5600, 300)\n",
      "5 5\n"
     ]
    }
   ],
   "source": [
    "index_list = cross_validation(x_train, k=5)\n",
    "train_list, val_list = index_transformer(index_list, x_train, y_train)\n",
    "print(len(train_list), len(val_list))"
   ]
  },
  {
   "cell_type": "code",
   "execution_count": 124,
   "metadata": {},
   "outputs": [
    {
     "name": "stdout",
     "output_type": "stream",
     "text": [
      "best:  [0.9934285714285714, 0.0001, 1]\n",
      "all score:  [[0.49485714285714283, 1e-06, 0.1], [0.9081428571428571, 1e-06, 1], [0.9371428571428572, 1e-06, 10], [0.9465714285714286, 1e-06, 100], [0.9755714285714285, 1e-06, 1000], [0.9874285714285713, 1e-06, 10000], [0.9138571428571428, 1e-05, 0.1], [0.9535714285714285, 1e-05, 1], [0.9838571428571429, 1e-05, 10], [0.9908571428571428, 1e-05, 100], [0.9907142857142857, 1e-05, 1000], [0.9907142857142857, 1e-05, 10000], [0.9755714285714285, 0.0001, 0.1], [0.9934285714285714, 0.0001, 1], [0.9932857142857141, 0.0001, 10], [0.9932857142857141, 0.0001, 100], [0.9932857142857141, 0.0001, 1000], [0.9932857142857141, 0.0001, 10000], [0.49485714285714283, 0.001, 0.1], [0.49485714285714283, 0.001, 1], [0.49485714285714283, 0.001, 10], [0.49485714285714283, 0.001, 100], [0.49485714285714283, 0.001, 1000], [0.49485714285714283, 0.001, 10000], [0.49485714285714283, 0.01, 0.1], [0.49485714285714283, 0.01, 1], [0.49485714285714283, 0.01, 10], [0.49485714285714283, 0.01, 100], [0.49485714285714283, 0.01, 1000], [0.49485714285714283, 0.01, 10000], [0.49485714285714283, 0.1, 0.1], [0.49485714285714283, 0.1, 1], [0.49485714285714283, 0.1, 10], [0.49485714285714283, 0.1, 100], [0.49485714285714283, 0.1, 1000], [0.49485714285714283, 0.1, 10000]]\n"
     ]
    }
   ],
   "source": [
    "## your code\n",
    "\n",
    "best = [0, 0, 0] #accuracy, gamma, c\n",
    "score_list = []\n",
    "gamma = [0.000001, 0.00001, 0.0001, 0.001, 0.01, 0.1]\n",
    "c = [0.1, 1, 10, 100, 1000, 10000]\n",
    "for g_val in gamma: # loop all gamma & c pairs \n",
    "    for c_val in c:\n",
    "        clf = SVC(C=c_val, kernel='rbf', gamma=g_val)\n",
    "        cur_score = 0\n",
    "        for d in range(len(train_list)): \n",
    "            clf.fit(train_list[d][0], train_list[d][1])\n",
    "            cur_score = cur_score + clf.score(val_list[d][0], val_list[d][1])\n",
    "        mean_score = cur_score/len(train_list)\n",
    "        score_list.append([mean_score, g_val, c_val])\n",
    "        if(mean_score>best[0]):\n",
    "            best = [mean_score, g_val, c_val]\n",
    "\n",
    "print(\"best: \", best)\n",
    "print(\"all score: \", score_list)\n",
    "        \n",
    "\n",
    "#clf.fit(x_train, y_train)\n",
    "#print(clf.score(x_train, y_train))"
   ]
  },
  {
   "cell_type": "code",
   "execution_count": 125,
   "metadata": {},
   "outputs": [
    {
     "name": "stdout",
     "output_type": "stream",
     "text": [
      "[0.0001, 1]\n"
     ]
    }
   ],
   "source": [
    "best_parameters = [best[1], best[2]]\n",
    "print(best_parameters)"
   ]
  },
  {
   "cell_type": "markdown",
   "metadata": {},
   "source": [
    "## Question 3\n",
    "Plot the grid search results of your SVM. The x, y represents the hyperparameters of “gamma” and “C”, respectively. And the color represents the average score of validation folds\n",
    "You reults should be look like this reference image below ![image](https://miro.medium.com/max/1296/1*wGWTup9r4cVytB5MOnsjdQ.png) "
   ]
  },
  {
   "cell_type": "code",
   "execution_count": 145,
   "metadata": {},
   "outputs": [
    {
     "name": "stdout",
     "output_type": "stream",
     "text": [
      "36\n",
      "[[0.49 0.91 0.94 0.95 0.98 0.99]\n",
      " [0.91 0.95 0.98 0.99 0.99 0.99]\n",
      " [0.98 0.99 0.99 0.99 0.99 0.99]\n",
      " [0.49 0.49 0.49 0.49 0.49 0.49]\n",
      " [0.49 0.49 0.49 0.49 0.49 0.49]\n",
      " [0.49 0.49 0.49 0.49 0.49 0.49]]\n"
     ]
    }
   ],
   "source": [
    "gamma = [0.000001, 0.00001, 0.0001, 0.001, 0.01, 0.1] #column\n",
    "c = [0.1, 1, 10, 100, 1000, 10000] #row\n",
    "print(len(score_list))\n",
    "s_only = []\n",
    "for i in range(6):\n",
    "    tmp = []\n",
    "    for j in range(6):\n",
    "        tmp.append(round(score_list[i*6+j][0],2))\n",
    "    s_only.append(tmp)\n",
    "\n",
    "s_only = np.array(s_only) # 2d table of score\n",
    "print(s_only)\n"
   ]
  },
  {
   "cell_type": "code",
   "execution_count": 165,
   "metadata": {},
   "outputs": [
    {
     "data": {
      "image/png": "[encoded data removed]",
      "text/plain": [
       "<Figure size 640x480 with 2 Axes>"
      ]
     },
     "metadata": {},
     "output_type": "display_data"
    }
   ],
   "source": [
    "from matplotlib import pyplot as plt #plot grid table\n",
    "fig, ax = plt.subplots()\n",
    "im = ax.imshow(s_only,  cmap=\"PuOr\")\n",
    "ax.set_xticks(np.arange(len(gamma)), labels=gamma)\n",
    "ax.set_yticks(np.arange(len(c)), labels=c)\n",
    "plt.setp(ax.get_xticklabels(), rotation=45, ha=\"right\",\n",
    "         rotation_mode=\"anchor\")\n",
    "\n",
    "# Loop over data dimensions and create text annotations.\n",
    "for i in range(len(gamma)):\n",
    "    for j in range(len(c)):\n",
    "        text = ax.text(j, i, s_only[i, j],\n",
    "                       ha=\"center\", va=\"center\", color=\"w\")\n",
    "\n",
    "ax.set_title(\"Hyperparameter Gridsearch\")\n",
    "plt.xlabel('Gamma Parameter')\n",
    "plt.ylabel('C Parameter')\n",
    "cbar = ax.figure.colorbar(im, ax=ax)\n",
    "fig.tight_layout()\n",
    "plt.show()"
   ]
  },
  {
   "cell_type": "markdown",
   "metadata": {},
   "source": [
    "## Question 4\n",
    "Train your SVM model by the best parameters you found from question 2 on the whole training set and evaluate the performance on the test set."
   ]
  },
  {
   "cell_type": "code",
   "execution_count": 24,
   "metadata": {},
   "outputs": [],
   "source": [
    "best_model = SVC(C=1, kernel='rbf', gamma=0.0001)\n",
    "best_model.fit(x_train, y_train)\n",
    "y_pred = best_model.predict(x_test)\n"
   ]
  },
  {
   "cell_type": "code",
   "execution_count": 171,
   "metadata": {},
   "outputs": [
    {
     "ename": "NameError",
     "evalue": "name 'y_test' is not defined",
     "output_type": "error",
     "traceback": [
      "\u001b[1;31m---------------------------------------------------------------------------\u001b[0m",
      "\u001b[1;31mNameError\u001b[0m                                 Traceback (most recent call last)",
      "Cell \u001b[1;32mIn [171], line 2\u001b[0m\n\u001b[0;32m      1\u001b[0m y_pred \u001b[39m=\u001b[39m best_model\u001b[39m.\u001b[39mpredict(x_test)\n\u001b[1;32m----> 2\u001b[0m \u001b[39mprint\u001b[39m(\u001b[39m\"\u001b[39m\u001b[39mAccuracy score: \u001b[39m\u001b[39m\"\u001b[39m, accuracy_score(y_pred, y_test))\n",
      "\u001b[1;31mNameError\u001b[0m: name 'y_test' is not defined"
     ]
    }
   ],
   "source": [
    "y_pred = best_model.predict(x_test)\n",
    "print(\"Accuracy score: \", accuracy_score(y_pred, y_test))"
   ]
  }
 ],
 "metadata": {
  "kernelspec": {
   "display_name": "Python 3.10.8 64-bit (microsoft store)",
   "language": "python",
   "name": "python3"
  },
  "language_info": {
   "codemirror_mode": {
    "name": "ipython",
    "version": 3
   },
   "file_extension": ".py",
   "mimetype": "text/x-python",
   "name": "python",
   "nbconvert_exporter": "python",
   "pygments_lexer": "ipython3",
   "version": "3.10.8"
  },
  "vscode": {
   "interpreter": {
    "hash": "66eba28a75a64fbe1a9b9c30d27f7c856726c51cbbef86297708eae4ce175db0"
   }
  }
 },
 "nbformat": 4,
 "nbformat_minor": 4
}
