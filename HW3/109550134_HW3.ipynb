{
 "cells": [
  {
   "cell_type": "markdown",
   "metadata": {},
   "source": [
    "## HW3: Decision Tree, AdaBoost and Random Forest\n",
    "In hw3, you need to implement decision tree, adaboost and random forest by using only numpy, then train your implemented model by the provided dataset. TA will use the on-hold test label to evaluate your model performance.\n",
    "\n",
    "Please note that only **NUMPY** can be used to implement your model, you will get no points by simply calling `sklearn.tree.DecisionTreeClassifier`"
   ]
  },
  {
   "cell_type": "markdown",
   "metadata": {},
   "source": [
    "## Question 1\n",
    "Gini Index or Entropy is often used for measuring the “best” splitting of the data. Please compute the Entropy and Gini Index of provided data. Please use the formula from [page 5 of hw3 slides](https://docs.google.com/presentation/d/1kIe_-YZdemRMmr_3xDy-l0OS2EcLgDH7Uan14tlU5KE/edit#slide=id.gd542a5ff75_0_15)"
   ]
  },
  {
   "cell_type": "code",
   "execution_count": 8,
   "metadata": {},
   "outputs": [],
   "source": [
    "# Copy and paste your implementations right here to check your result\n",
    "# (Of course you can add your classes not written here)\n",
    "import numpy as np\n",
    "\n",
    "# sequence: multiple rows\n",
    "def gini(sequence): \n",
    "    s = len(sequence) # seq's length\n",
    "    cls = np.unique(sequence) # class in seq\n",
    "    cls_dict = dict() # store class with corresponding amount\n",
    "    for item in sequence:\n",
    "        if(item in cls_dict):\n",
    "            cls_dict[ item ] += 1\n",
    "        else:\n",
    "            cls_dict[item] = 1\n",
    "    g = 1\n",
    "    for c in cls: # for each class\n",
    "        p = cls_dict[c]/s # probability of being the class\n",
    "        g -= pow(p,2) # gini -= p^2\n",
    "    return g\n",
    "\n",
    "\n",
    "def entropy(sequence):\n",
    "    s = len(sequence) # seq's length\n",
    "    cls = np.unique(sequence) # class in seq\n",
    "    cls_dict = dict() # store class with corresponding amount\n",
    "    for item in sequence:\n",
    "        if(item in cls_dict):\n",
    "            cls_dict[ item ] += 1\n",
    "        else:\n",
    "            cls_dict[item] = 1\n",
    "    e = 0\n",
    "    for c in cls: # for each class\n",
    "        p = cls_dict[c]/s # probability of being the class\n",
    "        e -= p*np.log2(p) # entropy -= p*log2(p)\n",
    "    return e"
   ]
  },
  {
   "cell_type": "code",
   "execution_count": 9,
   "metadata": {},
   "outputs": [],
   "source": [
    "# 1 = class 1,\n",
    "# 2 = class 2\n",
    "data = np.array([1,2,1,1,1,1,2,2,1,1,2])"
   ]
  },
  {
   "cell_type": "code",
   "execution_count": 10,
   "metadata": {},
   "outputs": [
    {
     "name": "stdout",
     "output_type": "stream",
     "text": [
      "Gini of data is  0.4628099173553719\n"
     ]
    }
   ],
   "source": [
    "print(\"Gini of data is \", gini(data))"
   ]
  },
  {
   "cell_type": "code",
   "execution_count": 11,
   "metadata": {},
   "outputs": [
    {
     "name": "stdout",
     "output_type": "stream",
     "text": [
      "Entropy of data is  0.9456603046006401\n"
     ]
    }
   ],
   "source": [
    "print(\"Entropy of data is \", entropy(data))"
   ]
  },
  {
   "cell_type": "markdown",
   "metadata": {},
   "source": [
    "## Load data\n",
    "It is a binary classifiation dataset that classify if price is high or not for a cell phone, the label is stored in `price_range` column."
   ]
  },
  {
   "cell_type": "code",
   "execution_count": 13,
   "metadata": {},
   "outputs": [
    {
     "name": "stdout",
     "output_type": "stream",
     "text": [
      "(1200, 21)\n",
      "(300, 21)\n"
     ]
    },
    {
     "data": {
      "text/html": [
       "<div>\n",
       "<style scoped>\n",
       "    .dataframe tbody tr th:only-of-type {\n",
       "        vertical-align: middle;\n",
       "    }\n",
       "\n",
       "    .dataframe tbody tr th {\n",
       "        vertical-align: top;\n",
       "    }\n",
       "\n",
       "    .dataframe thead th {\n",
       "        text-align: right;\n",
       "    }\n",
       "</style>\n",
       "<table border=\"1\" class=\"dataframe\">\n",
       "  <thead>\n",
       "    <tr style=\"text-align: right;\">\n",
       "      <th></th>\n",
       "      <th>battery_power</th>\n",
       "      <th>blue</th>\n",
       "      <th>clock_speed</th>\n",
       "      <th>dual_sim</th>\n",
       "      <th>fc</th>\n",
       "      <th>four_g</th>\n",
       "      <th>int_memory</th>\n",
       "      <th>m_dep</th>\n",
       "      <th>mobile_wt</th>\n",
       "      <th>n_cores</th>\n",
       "      <th>...</th>\n",
       "      <th>px_height</th>\n",
       "      <th>px_width</th>\n",
       "      <th>ram</th>\n",
       "      <th>sc_h</th>\n",
       "      <th>sc_w</th>\n",
       "      <th>talk_time</th>\n",
       "      <th>three_g</th>\n",
       "      <th>touch_screen</th>\n",
       "      <th>wifi</th>\n",
       "      <th>price_range</th>\n",
       "    </tr>\n",
       "  </thead>\n",
       "  <tbody>\n",
       "    <tr>\n",
       "      <th>0</th>\n",
       "      <td>1583</td>\n",
       "      <td>1</td>\n",
       "      <td>2.1</td>\n",
       "      <td>1</td>\n",
       "      <td>11</td>\n",
       "      <td>0</td>\n",
       "      <td>14</td>\n",
       "      <td>0.7</td>\n",
       "      <td>148</td>\n",
       "      <td>7</td>\n",
       "      <td>...</td>\n",
       "      <td>942</td>\n",
       "      <td>1651</td>\n",
       "      <td>1704</td>\n",
       "      <td>17</td>\n",
       "      <td>13</td>\n",
       "      <td>2</td>\n",
       "      <td>1</td>\n",
       "      <td>0</td>\n",
       "      <td>1</td>\n",
       "      <td>1</td>\n",
       "    </tr>\n",
       "    <tr>\n",
       "      <th>1</th>\n",
       "      <td>745</td>\n",
       "      <td>1</td>\n",
       "      <td>0.6</td>\n",
       "      <td>1</td>\n",
       "      <td>5</td>\n",
       "      <td>0</td>\n",
       "      <td>35</td>\n",
       "      <td>0.8</td>\n",
       "      <td>102</td>\n",
       "      <td>8</td>\n",
       "      <td>...</td>\n",
       "      <td>89</td>\n",
       "      <td>1538</td>\n",
       "      <td>2459</td>\n",
       "      <td>14</td>\n",
       "      <td>1</td>\n",
       "      <td>16</td>\n",
       "      <td>1</td>\n",
       "      <td>1</td>\n",
       "      <td>0</td>\n",
       "      <td>0</td>\n",
       "    </tr>\n",
       "    <tr>\n",
       "      <th>2</th>\n",
       "      <td>832</td>\n",
       "      <td>0</td>\n",
       "      <td>0.7</td>\n",
       "      <td>1</td>\n",
       "      <td>2</td>\n",
       "      <td>1</td>\n",
       "      <td>39</td>\n",
       "      <td>0.7</td>\n",
       "      <td>103</td>\n",
       "      <td>4</td>\n",
       "      <td>...</td>\n",
       "      <td>125</td>\n",
       "      <td>1504</td>\n",
       "      <td>1799</td>\n",
       "      <td>5</td>\n",
       "      <td>2</td>\n",
       "      <td>11</td>\n",
       "      <td>1</td>\n",
       "      <td>0</td>\n",
       "      <td>1</td>\n",
       "      <td>0</td>\n",
       "    </tr>\n",
       "    <tr>\n",
       "      <th>3</th>\n",
       "      <td>1175</td>\n",
       "      <td>1</td>\n",
       "      <td>1.3</td>\n",
       "      <td>0</td>\n",
       "      <td>2</td>\n",
       "      <td>0</td>\n",
       "      <td>19</td>\n",
       "      <td>0.3</td>\n",
       "      <td>164</td>\n",
       "      <td>7</td>\n",
       "      <td>...</td>\n",
       "      <td>873</td>\n",
       "      <td>1394</td>\n",
       "      <td>1944</td>\n",
       "      <td>9</td>\n",
       "      <td>4</td>\n",
       "      <td>9</td>\n",
       "      <td>1</td>\n",
       "      <td>1</td>\n",
       "      <td>0</td>\n",
       "      <td>0</td>\n",
       "    </tr>\n",
       "    <tr>\n",
       "      <th>4</th>\n",
       "      <td>695</td>\n",
       "      <td>0</td>\n",
       "      <td>0.5</td>\n",
       "      <td>0</td>\n",
       "      <td>18</td>\n",
       "      <td>1</td>\n",
       "      <td>12</td>\n",
       "      <td>0.6</td>\n",
       "      <td>196</td>\n",
       "      <td>2</td>\n",
       "      <td>...</td>\n",
       "      <td>1649</td>\n",
       "      <td>1829</td>\n",
       "      <td>2855</td>\n",
       "      <td>16</td>\n",
       "      <td>13</td>\n",
       "      <td>7</td>\n",
       "      <td>1</td>\n",
       "      <td>1</td>\n",
       "      <td>1</td>\n",
       "      <td>1</td>\n",
       "    </tr>\n",
       "  </tbody>\n",
       "</table>\n",
       "<p>5 rows × 21 columns</p>\n",
       "</div>"
      ],
      "text/plain": [
       "   battery_power  blue  clock_speed  dual_sim  fc  four_g  int_memory  m_dep  \\\n",
       "0           1583     1          2.1         1  11       0          14    0.7   \n",
       "1            745     1          0.6         1   5       0          35    0.8   \n",
       "2            832     0          0.7         1   2       1          39    0.7   \n",
       "3           1175     1          1.3         0   2       0          19    0.3   \n",
       "4            695     0          0.5         0  18       1          12    0.6   \n",
       "\n",
       "   mobile_wt  n_cores  ...  px_height  px_width   ram  sc_h  sc_w  talk_time  \\\n",
       "0        148        7  ...        942      1651  1704    17    13          2   \n",
       "1        102        8  ...         89      1538  2459    14     1         16   \n",
       "2        103        4  ...        125      1504  1799     5     2         11   \n",
       "3        164        7  ...        873      1394  1944     9     4          9   \n",
       "4        196        2  ...       1649      1829  2855    16    13          7   \n",
       "\n",
       "   three_g  touch_screen  wifi  price_range  \n",
       "0        1             0     1            1  \n",
       "1        1             1     0            0  \n",
       "2        1             0     1            0  \n",
       "3        1             1     0            0  \n",
       "4        1             1     1            1  \n",
       "\n",
       "[5 rows x 21 columns]"
      ]
     },
     "execution_count": 13,
     "metadata": {},
     "output_type": "execute_result"
    }
   ],
   "source": [
    "import pandas as pd\n",
    "\n",
    "train_df = pd.read_csv('train.csv')\n",
    "val_df = pd.read_csv('val.csv')\n",
    "print(train_df.shape)\n",
    "print(val_df.shape)\n",
    "\n",
    "train_df.head()"
   ]
  },
  {
   "cell_type": "markdown",
   "metadata": {},
   "source": [
    "## Question 2\n",
    "Implement the Decision Tree algorithm (CART, Classification and Regression Trees) and trained the model by the given arguments, and print the accuracy score on the validation data. You should implement two arguments for the Decision Tree algorithm\n",
    "1. **criterion**: The function to measure the quality of a split. Your model should support `gini` for the Gini impurity and `entropy` for the information gain. \n",
    "2. **max_depth**: The maximum depth of the tree. If `max_depth=None`, then nodes are expanded until all leaves are pure. `max_depth=1` equals to split data once\n"
   ]
  },
  {
   "cell_type": "code",
   "execution_count": 6,
   "metadata": {},
   "outputs": [],
   "source": [
    "def to_nparray(input_df): # change dataframe to nparray\n",
    "    x = input_df.drop(labels=[\"price_range\"], axis=\"columns\")\n",
    "    x = x.values\n",
    "    y = input_df['price_range'].values\n",
    "    \n",
    "    return x, y"
   ]
  },
  {
   "cell_type": "code",
   "execution_count": 14,
   "metadata": {},
   "outputs": [
    {
     "name": "stdout",
     "output_type": "stream",
     "text": [
      "      battery_power  blue  clock_speed  dual_sim  fc  four_g  int_memory  \\\n",
      "0              1583     1          2.1         1  11       0          14   \n",
      "1               745     1          0.6         1   5       0          35   \n",
      "2               832     0          0.7         1   2       1          39   \n",
      "3              1175     1          1.3         0   2       0          19   \n",
      "4               695     0          0.5         0  18       1          12   \n",
      "...             ...   ...          ...       ...  ..     ...         ...   \n",
      "1195           1872     1          0.5         1  14       0          49   \n",
      "1196           1239     0          1.2         1   5       1          52   \n",
      "1197           1195     1          1.1         1   2       1           8   \n",
      "1198            671     0          0.9         1  10       0          30   \n",
      "1199           1845     1          0.5         1  10       0          61   \n",
      "\n",
      "      m_dep  mobile_wt  n_cores  ...  px_height  px_width   ram  sc_h  sc_w  \\\n",
      "0       0.7        148        7  ...        942      1651  1704    17    13   \n",
      "1       0.8        102        8  ...         89      1538  2459    14     1   \n",
      "2       0.7        103        4  ...        125      1504  1799     5     2   \n",
      "3       0.3        164        7  ...        873      1394  1944     9     4   \n",
      "4       0.6        196        2  ...       1649      1829  2855    16    13   \n",
      "...     ...        ...      ...  ...        ...       ...   ...   ...   ...   \n",
      "1195    0.2        139        7  ...         81      1389  3153    16    15   \n",
      "1196    0.9        122        2  ...        590       661   417     8     0   \n",
      "1197    0.9         80        6  ...        327      1001   643    14     2   \n",
      "1198    0.7        105        7  ...        852      1182  2504     6     4   \n",
      "1199    0.3         96        1  ...        292       695  1731     9     5   \n",
      "\n",
      "      talk_time  three_g  touch_screen  wifi  price_range  \n",
      "0             2        1             0     1            1  \n",
      "1            16        1             1     0            0  \n",
      "2            11        1             0     1            0  \n",
      "3             9        1             1     0            0  \n",
      "4             7        1             1     1            1  \n",
      "...         ...      ...           ...   ...          ...  \n",
      "1195          5        1             1     0            1  \n",
      "1196          6        1             0     1            0  \n",
      "1197         19        1             0     0            0  \n",
      "1198         15        1             0     0            1  \n",
      "1199          6        0             0     0            0  \n",
      "\n",
      "[1200 rows x 21 columns]\n",
      "591 609\n",
      "[1 0 0 ... 0 1 0]\n"
     ]
    }
   ],
   "source": [
    "\n",
    "def g_or_e(sequence, criterion): #perform gini or entropy base on criterion\n",
    "    if(criterion=='gini'):\n",
    "        return gini(sequence)\n",
    "    else:\n",
    "        return entropy(sequence)\n",
    "\n",
    "def compute(t_cls, f_cls, criterion, cur): # compute infomation gain\n",
    "    prob_t = len(t_cls)/ (len(f_cls)+len(t_cls) ) #probability of true\n",
    "    n = g_or_e(t_cls, criterion)*prob_t + g_or_e(f_cls, criterion)*(1-prob_t) #multiply weight\n",
    "    return cur-n\n",
    "\n",
    "def tf_generator(x_data, y_data, i, v): # seperate true & false by feature and value\n",
    "    t = [] \n",
    "    f = []\n",
    "    for row, cls in zip(x_data, y_data):\n",
    "        if(row[i]>=v): # bool: v=1\n",
    "            t.append(cls)\n",
    "        else:\n",
    "            f.append(cls)\n",
    "    return t, f\n",
    "\n",
    "def tf_generator_x(x_data, y_data, i, v): # seperate true & false by feature and value\n",
    "    tx = [] \n",
    "    ty = []\n",
    "    fx = []\n",
    "    fy = []\n",
    "    for row, cls in zip(x_data, y_data):\n",
    "        if(row[i]>=v): # bool: v=1\n",
    "            tx.append(row)\n",
    "            ty.append(cls)\n",
    "        else:\n",
    "            fx.append(row)\n",
    "            fy.append(cls)\n",
    "    tx = np.array(tx)\n",
    "    ty = np.array(ty)\n",
    "    fx = np.array(fx)\n",
    "    fy = np.array(fy)\n",
    "    return tx, ty, fx, fy\n",
    "\n",
    "\n",
    "print(train_df)\n",
    "x_data, y_data = to_nparray(train_df) # transform data\n",
    "t_temp, f_temp = tf_generator(x_data, y_data, 1, 1)\n",
    "print(len(t_temp),len(f_temp))\n",
    "print(y_data)"
   ]
  },
  {
   "cell_type": "code",
   "execution_count": 15,
   "metadata": {},
   "outputs": [],
   "source": [
    "class d_node(): # decision node\n",
    "    def __init__(self, true, false, split_f):\n",
    "        self.true = true\n",
    "        self.false = false\n",
    "        self.split_f = split_f # split feature and value\n",
    "\n",
    "class l_node(): #leaf node\n",
    "    def __init__(self, sequence):\n",
    "        self.cls_pred = dict() # store class with corresponding amount\n",
    "        self.cls_pred = {1:0, 0:0}\n",
    "        for item in sequence:\n",
    "            if(item in self.cls_pred):\n",
    "                self.cls_pred[ item ] += 1\n",
    "            else:\n",
    "                self.cls_pred[item] = 1"
   ]
  },
  {
   "cell_type": "code",
   "execution_count": 17,
   "metadata": {},
   "outputs": [],
   "source": [
    "\n",
    "class DecisionTree():\n",
    "    def __init__(self, criterion='gini', max_depth=None, forest=False):\n",
    "        self.max_depth = max_depth\n",
    "        self.criterion = criterion\n",
    "        self.tree = ' '\n",
    "        self.y_predict = []\n",
    "        self.gain = ' '\n",
    "        self.feature_n_val = ' '\n",
    "        self.for_ada_y_data = ' '\n",
    "        self.feature_pool_index = []\n",
    "        self.feature_pool = []\n",
    "        self.forest = forest\n",
    "        self.importance = np.zeros(20)\n",
    "        pass\n",
    "    \n",
    "    def pool(self, x_data, y_data): # all feature of data\n",
    "        for i in range(len(x_data[0]-1)):\n",
    "            v_of_feature_i = np.unique(x_data[:, i])\n",
    "            if(len(v_of_feature_i)==2): #bool\n",
    "                t, f = tf_generator(x_data, y_data, i, 1)\n",
    "                if(len(t)!=0 and len(f)!=0):\n",
    "                    self.feature_pool.append([i, 1])\n",
    "            else: #numeric\n",
    "                for v in v_of_feature_i:\n",
    "                    t, f = tf_generator(x_data, y_data, i, v)\n",
    "                    if(len(t)!=0 and len(f)!=0):\n",
    "                        self.feature_pool.append([i, v])\n",
    "        return len(self.feature_pool)\n",
    "\n",
    "    def split(self, x_data, y_data, criterion): # find best split with best infomation gain\n",
    "        best_gain = 0\n",
    "        best_feature_n_val = [] # store feature ol, val(bool=1)\n",
    "        cur = g_or_e(y_data, criterion) \n",
    "        count = 0 # index of feature\n",
    "        for i in range(len(x_data[0]-1)): # loop all features\n",
    "            v_of_feature_i = np.unique(x_data[:, i])\n",
    "            flag = True\n",
    "            if(len(v_of_feature_i)==2): #bool\n",
    "                \n",
    "                if(self.forest == True):\n",
    "                    if(count  not in self.feature_pool_index):\n",
    "                        flag = False\n",
    "                if(flag == True):\n",
    "                    t, f = tf_generator(x_data, y_data, i, 1)\n",
    "                    if(len(t)!=0 and len(f)!=0):\n",
    "                        temp_gain = compute(t, f, criterion, cur)\n",
    "                        if (temp_gain>best_gain):\n",
    "                            best_gain = temp_gain\n",
    "                            best_feature_n_val = [i, 1]\n",
    "                count+=1\n",
    "            else: #numeric\n",
    "                for v in v_of_feature_i:\n",
    "                    if(self.forest == True):\n",
    "                        if(count not in self.feature_pool_index):\n",
    "                            flag = False\n",
    "                    if(flag == True):\n",
    "                        t, f = tf_generator(x_data, y_data, i, v)\n",
    "                        if(len(t)!=0 and len(f)!=0):\n",
    "                            temp_gain = compute(t, f, criterion, cur)\n",
    "                            if (temp_gain>best_gain):\n",
    "                                best_gain = temp_gain\n",
    "                                best_feature_n_val = [i, v]\n",
    "                    flag = True\n",
    "                    count+=1\n",
    "        return best_gain, best_feature_n_val\n",
    "\n",
    "    def fitting(self, x_data, y_data, depth=0):\n",
    "\n",
    "        gain, feature_n_val = self.split(x_data, y_data, self.criterion) # find best split by self.split\n",
    "        self.gain = gain\n",
    "        self.feature_n_val = feature_n_val\n",
    "        if (gain==0 or depth==self.max_depth): # max depth or nothing learned\n",
    "            self.for_ada_y_data = y_data\n",
    "            return l_node(y_data) #leaf node\n",
    "        else: #still learning\n",
    "            tx, ty, fx, fy = tf_generator_x(x_data, y_data, feature_n_val[0], feature_n_val[1])\n",
    "            true = self.fitting(tx, ty, depth+1) # continue on its child node\n",
    "            false = self.fitting(fx, fy, depth+1)\n",
    "        \n",
    "        if(self.tree == ' '): self.tree = d_node(true, false, feature_n_val)\n",
    "        return d_node(true, false, feature_n_val) # decision node\n",
    "\n",
    "    def fit(self, x_data, y_data, depth=0): # fit using fitting\n",
    "        self.tree = self.fitting( x_data, y_data, depth=0)\n",
    "\n",
    "    def pred_row(self, row, node): #predict result of row\n",
    "\n",
    "        if (type(node)==l_node):\n",
    "            if(node.cls_pred[1]>=node.cls_pred[0]): # l_node class = true\n",
    "                self.y_predict.append(1)\n",
    "                return \n",
    "            else: # l_node class = false\n",
    "                self.y_predict.append(0)\n",
    "                return \n",
    "\n",
    "        i = node.split_f[0] # i\n",
    "        v = node.split_f[1] # v\n",
    "\n",
    "        if(row[i]>=v): #true\n",
    "            self.pred_row(row, node.true)\n",
    "        else: #false\n",
    "            self.pred_row(row, node.false)\n",
    "\n",
    "    def pred_row_print(self, row, node): #predict result of row\n",
    "        if (type(node)==l_node):\n",
    "            if(node.cls_pred[1]>=node.cls_pred[0]): # l_node class = true\n",
    "                row_pred = 1\n",
    "                return row_pred\n",
    "            else: # l_node class = false\n",
    "                row_pred = 0\n",
    "                return row_pred\n",
    "\n",
    "        i = node.split_f[0] # i\n",
    "        v = node.split_f[1] # v\n",
    "        if(row[i]>=v): #true\n",
    "            self.pred_row(row, node.true)\n",
    "        else: #false\n",
    "            self.pred_row(row, node.false)\n",
    "   \n",
    "    def predict(self, x_data): # predict 得出 x_data對應的y_pred (可和y_data比對)\n",
    "        self.y_predict = []\n",
    "        for row in x_data:\n",
    "            self.pred_row(row, self.tree)\n",
    "        self.y_predict = np.array(self.y_predict)\n",
    "        return self.y_predict \n",
    "    \n",
    "    def show_val_acc(self, pred, y_val):\n",
    "        false = 0 \n",
    "        total = len(y_val)\n",
    "        for p, truth in zip(pred, y_val):\n",
    "            if(p != truth):\n",
    "                false+=1\n",
    "        print(\"accuracy: \", 1.0-float(false/total))\n",
    "    \n",
    "    def return_err(self, pred, y_val): # error between 2 data\n",
    "        false = 0 \n",
    "        total = len(y_val)\n",
    "        for p, truth in zip(pred, y_val):\n",
    "            if(p != truth):\n",
    "                false+=1\n",
    "        return(float(false/total))#float(false/total)\n",
    "    \n",
    "    def important(self, node): #importance of feature\n",
    "        if (type(node)==l_node):\n",
    "            return\n",
    "        print (str(node.split_f))\n",
    "        self.importance[node.split_f[0]] += 1\n",
    "        self.important(node.true)\n",
    "        self.important(node.false)\n",
    "                        \n",
    "        \n",
    "\n",
    "#tree = DecisionTree(max_depth=3)\n",
    "#t = tree.fit(x_data, y_data)\n",
    "#predict =  tree.predict(x_val)\n"
   ]
  },
  {
   "cell_type": "markdown",
   "metadata": {},
   "source": [
    "### Question 2.1\n",
    "Using `criterion=gini`, showing the accuracy score of validation data by `max_depth=3` and `max_depth=10`, respectively.\n"
   ]
  },
  {
   "cell_type": "code",
   "execution_count": 18,
   "metadata": {},
   "outputs": [],
   "source": [
    "x_val, y_val = to_nparray(val_df)"
   ]
  },
  {
   "cell_type": "code",
   "execution_count": null,
   "metadata": {},
   "outputs": [
    {
     "name": "stdout",
     "output_type": "stream",
     "text": [
      "depth = 3: \n",
      "accuracy:  0.92\n",
      "\n",
      "depth = 10: \n",
      "accuracy:  0.9299999999999999\n"
     ]
    }
   ],
   "source": [
    "\n",
    "clf_depth3 = DecisionTree(criterion='gini', max_depth=3)\n",
    "clf_depth10 = DecisionTree(criterion='gini', max_depth=10)\n",
    "\n",
    "print(\"depth = 3: \")\n",
    "clf_depth3.fit(x_data, y_data)\n",
    "pred_3 =clf_depth3.predict(x_val)\n",
    "clf_depth3.show_val_acc(pred_3, y_val)\n",
    "\n",
    "print('')\n",
    "print(\"depth = 10: \")\n",
    "clf_depth10.fit(x_data, y_data)\n",
    "pred_10 =clf_depth10.predict(x_val)\n",
    "clf_depth10.show_val_acc(pred_10, y_val)\n"
   ]
  },
  {
   "cell_type": "code",
   "execution_count": null,
   "metadata": {},
   "outputs": [],
   "source": [
    "clf_depth10.important(clf_depth10.tree)\n",
    "#print(clf_depth10.importance)"
   ]
  },
  {
   "cell_type": "markdown",
   "metadata": {},
   "source": [
    "### Question 2.2\n",
    "Using `max_depth=3`, showing the accuracy score of validation data by `criterion=gini` and `criterion=entropy`, respectively.\n"
   ]
  },
  {
   "cell_type": "code",
   "execution_count": null,
   "metadata": {},
   "outputs": [
    {
     "name": "stdout",
     "output_type": "stream",
     "text": [
      "criterion = gini: \n",
      "accuracy:  0.92\n",
      "\n",
      "criterion = entropy: \n",
      "accuracy:  0.9333333333333333\n"
     ]
    }
   ],
   "source": [
    "clf_gini = DecisionTree(criterion='gini', max_depth=3)\n",
    "clf_entropy = DecisionTree(criterion='entropy', max_depth=3)\n",
    "\n",
    "print(\"criterion = gini: \")\n",
    "clf_gini.fit(x_data, y_data)\n",
    "pred_g =clf_gini.predict(x_val)\n",
    "clf_gini.show_val_acc(pred_g, y_val)\n",
    "\n",
    "print('')\n",
    "print(\"criterion = entropy: \")\n",
    "clf_entropy.fit(x_data, y_data)\n",
    "pred_e =clf_entropy.predict(x_val)\n",
    "clf_entropy.show_val_acc(pred_e, y_val)"
   ]
  },
  {
   "cell_type": "markdown",
   "metadata": {},
   "source": [
    "- Note: Your decisition tree scores should over **0.9**. It may suffer from overfitting, if so, you can tune the hyperparameter such as `max_depth`\n",
    "- Note: You should get the same results when re-building the model with the same arguments,  no need to prune the trees\n",
    "- Hint: You can use the recursive method to build the nodes\n"
   ]
  },
  {
   "cell_type": "markdown",
   "metadata": {},
   "source": [
    "## Question 3\n",
    "Plot the [feature importance](https://sefiks.com/2020/04/06/feature-importance-in-decision-trees/) of your Decision Tree model. You can get the feature importance by counting the feature used for splitting data.\n",
    "\n",
    "- You can simply plot the **counts of feature used** for building tree without normalize the importance. Take the figure below as example, outlook feature has been used for splitting for almost 50 times. Therefore, it has the largest importance\n",
    "\n",
    "![image](https://i2.wp.com/sefiks.com/wp-content/uploads/2020/04/c45-fi-results.jpg?w=481&ssl=1)"
   ]
  },
  {
   "cell_type": "code",
   "execution_count": null,
   "metadata": {},
   "outputs": [
    {
     "data": {
      "image/png": "[encoded data removed]",
      "text/plain": [
       "<Figure size 640x480 with 1 Axes>"
      ]
     },
     "metadata": {},
     "output_type": "display_data"
    }
   ],
   "source": [
    "import matplotlib.pyplot as plt\n",
    "# plot data\n",
    "importances = clf_depth10.importance\n",
    "x_train = train_df.drop(labels=[\"price_range\"], axis=\"columns\")\n",
    "names = x_train.columns.values\n",
    "\n",
    "plt.figure()\n",
    "plt.title(\"Feature Importance\")\n",
    "plt.barh(range(x_data.shape[1]), importances)\n",
    "\n",
    "plt.yticks(range(x_data.shape[1]), names, rotation=0)\n",
    "\n",
    "plt.show()"
   ]
  },
  {
   "cell_type": "markdown",
   "metadata": {},
   "source": [
    "## Question 4\n",
    "implement the AdaBooest algorithm by using the CART you just implemented from question 2 as base learner. You should implement one arguments for the AdaBooest.\n",
    "1. **n_estimators**: The maximum number of estimators at which boosting is terminated"
   ]
  },
  {
   "cell_type": "code",
   "execution_count": 19,
   "metadata": {},
   "outputs": [],
   "source": [
    "def resample(x_data, y_data, D): #resample by D\n",
    "    sample_index = np.random.choice(len(y_data), size=len(y_data), replace=True, p=D)\n",
    "    sample_index.sort()\n",
    "    x = []\n",
    "    y = []\n",
    "    for i in sample_index:\n",
    "        x.append(x_data[i])\n",
    "        y.append(y_data[i])\n",
    "    return x, y"
   ]
  },
  {
   "cell_type": "code",
   "execution_count": 20,
   "metadata": {},
   "outputs": [],
   "source": [
    "class AdaBoost():\n",
    "    def __init__(self, n_estimators):\n",
    "        self.n_estimators = n_estimators \n",
    "        self.classifier = []\n",
    "        self.alphalist = []\n",
    "\n",
    "    def fit(self, x_data, y_data):\n",
    "        D = [1/len(x_data)]*len(x_data) # init D\n",
    "        self.classifier = []\n",
    "        self.alphalist = []\n",
    "        for t in range(self.n_estimators): # t round, 600 data 1 time\n",
    "            x, y = resample(x_data, y_data, D)\n",
    "            dec_tree = DecisionTree(criterion = 'entropy',max_depth=1)\n",
    "            x = np.array(x)\n",
    "            y = np.array(y)\n",
    "            dec_tree.fit(x, y) \n",
    "            self.classifier.append(dec_tree)\n",
    "            \n",
    "            # call dec_tree.predict = classify using ht\n",
    "            p = dec_tree.predict(x_data)\n",
    "            t_err = dec_tree.return_err(p, y_data)\n",
    "            alpha = np.log((1-t_err)/t_err)*0.5\n",
    "            self.alphalist.append(alpha)\n",
    "            temp_d = []\n",
    "            if(dec_tree.gain!=0):\n",
    "                decide = dec_tree.tree.split_f\n",
    "                for i in range(len(D)):\n",
    "                    if(x_data[i][decide[0]]>=decide[1]):\n",
    "                        x_class = 1\n",
    "                    else:\n",
    "                        x_class = -1\n",
    "                    temp_d.append(D[i]*np.exp(-(alpha*y_data[i]* x_class)))\n",
    "                D = temp_d\n",
    "                D /= np.sum(D) # normalization\n",
    "        \n",
    "\n",
    "    def predict(self, x_data):\n",
    "        preds = []\n",
    "        for t in range(self.n_estimators):\n",
    "            data_pred = self.classifier[t].predict(x_data)\n",
    "            data_pred = np.array(data_pred)\n",
    "            preds.append(self.alphalist[t]*data_pred)\n",
    "        y_prediction = np.sum(preds, axis=0)\n",
    "        y_prediction = np.sign(y_prediction)\n",
    "        return y_prediction\n",
    "\n",
    "    def acc(self, pred, truth):\n",
    "        false = 0\n",
    "        total = len(truth)\n",
    "        for p, t in zip(pred, truth):\n",
    "            \n",
    "            if((p==-1 and t==1)or(p==1 and t==0)):\n",
    "                false +=1\n",
    "        print(\"acc: \", 1-float(false/total))\n",
    "\n",
    "\n",
    "\n",
    "\n"
   ]
  },
  {
   "cell_type": "markdown",
   "metadata": {},
   "source": [
    "### Question 4.1\n",
    "Show the accuracy score of validation data by `n_estimators=10` and `n_estimators=100`, respectively.\n"
   ]
  },
  {
   "cell_type": "code",
   "execution_count": null,
   "metadata": {},
   "outputs": [
    {
     "name": "stdout",
     "output_type": "stream",
     "text": [
      "adaboost, n_estimators=10: \n",
      "acc:  0.8591666666666666\n",
      "adaboost, n_estimators=100: \n",
      "acc:  0.8591666666666666\n"
     ]
    }
   ],
   "source": [
    "ada10 = AdaBoost(n_estimators=10)\n",
    "ada10.fit(x_data, y_data)\n",
    "p10 = ada10.predict(x_data)\n",
    "print(\"adaboost, n_estimators=10: \")\n",
    "ada10.acc(p10, y_data)\n",
    "\n",
    "ada100 = AdaBoost(n_estimators=100)\n",
    "ada100.fit(x_data, y_data)\n",
    "p100 = ada10.predict(x_data)\n",
    "print(\"adaboost, n_estimators=100: \")\n",
    "ada100.acc(p100, y_data)"
   ]
  },
  {
   "cell_type": "markdown",
   "metadata": {},
   "source": [
    "## Question 5\n",
    "implement the Random Forest algorithm by using the CART you just implemented from question 2. You should implement three arguments for the Random Forest.\n",
    "\n",
    "1. **n_estimators**: The number of trees in the forest. \n",
    "2. **max_features**: The number of random select features to consider when looking for the best split\n",
    "3. **bootstrap**: Whether bootstrap samples are used when building tree\n"
   ]
  },
  {
   "cell_type": "code",
   "execution_count": null,
   "metadata": {},
   "outputs": [],
   "source": []
  },
  {
   "cell_type": "code",
   "execution_count": 21,
   "metadata": {},
   "outputs": [],
   "source": [
    "class RandomForest():\n",
    "    def __init__(self, n_estimators, max_features, boostrap=True, criterion='gini', max_depth=None):\n",
    "        self.n_estimators = n_estimators \n",
    "        self.classifier = []\n",
    "        self.alphalist = []\n",
    "        self.max_features = int(max_features)\n",
    "        self.boostrap = boostrap\n",
    "        self.criterion = criterion\n",
    "        self.max_depth = max_depth\n",
    "        self.pred_result = []\n",
    "\n",
    "\n",
    "    def fit(self, x_data, y_data):\n",
    "        D = [1/len(x_data)]*len(x_data) # init D\n",
    "        self.classifier = []\n",
    "        self.alphalist = []\n",
    "        self.pred_result = []\n",
    "        for t in range(self.n_estimators): # t round\n",
    "            x, y = resample(x_data, y_data, D)\n",
    "            \n",
    "            dec_tree = DecisionTree(criterion = self.criterion,max_depth=self.max_depth, forest=True)#decision tree\n",
    "            x = np.array(x)\n",
    "            y = np.array(y)\n",
    "            pool_size = dec_tree.pool(x, y)\n",
    "            dec_tree.feature_pool_index = np.random.choice(pool_size, size=self.max_features, replace=True) # choose index randomly\n",
    "            #print(dec_tree.feature_pool_index)\n",
    "            dec_tree.fit(x, y) \n",
    "            self.classifier.append(dec_tree)\n",
    "            \n",
    "\n",
    "    def predict(self, x_data):\n",
    "        pred_list = []\n",
    "        y_pred = []\n",
    "        for classify in self.classifier:\n",
    "            pred = classify.predict(x_data)\n",
    "            pred_list.append(pred)\n",
    "            #print(pred)\n",
    "            #print(\"-------\")\n",
    "        pred_list = np.array(pred_list)\n",
    "        pred_sum = np.sum(pred_list, axis=0)\n",
    "        half = len(self.classifier)/2\n",
    "        \n",
    "        #print(pred_sum)\n",
    "        for s in pred_sum:\n",
    "            if(s>=half):\n",
    "                y_pred.append(1)\n",
    "            else:\n",
    "                y_pred.append(0)\n",
    "        y_pred = np.array(y_pred)\n",
    "\n",
    "        return y_pred\n",
    "\n",
    "    def acc(self, pred, truth):\n",
    "        false = 0\n",
    "        total = len(truth)\n",
    "        for p, t in zip(pred, truth):\n",
    "            \n",
    "            if(p!=t):\n",
    "                false +=1\n",
    "        print(\"acc: \", 1-float(false/total))\n",
    "\n",
    "#f = RandomForest( n_estimators=10, max_features=2000)\n",
    "#f.fit(x_data, y_data)\n",
    "#f_pred = f.predict(x_val)\n",
    "#f.acc(f_pred, y_val)\n"
   ]
  },
  {
   "cell_type": "markdown",
   "metadata": {},
   "source": [
    "### Question 5.1\n",
    "Using `criterion=gini`, `max_depth=None`, `max_features=sqrt(n_features)`, showing the accuracy score of validation data by `n_estimators=10` and `n_estimators=100`, respectively.\n"
   ]
  },
  {
   "cell_type": "code",
   "execution_count": null,
   "metadata": {},
   "outputs": [],
   "source": [
    "#clf_10tree = RandomForest(n_estimators=10, max_features=(1500))\n",
    "clf_10tree = RandomForest(n_estimators=10, max_features=np.sqrt(x_data.shape[1]))\n",
    "clf_10tree.fit(x_data, y_data)\n",
    "\n",
    "#clf_100tree = RandomForest(n_estimators=100, max_features=(1500))\n",
    "clf_100tree = RandomForest(n_estimators=100, max_features=np.sqrt(x_data.shape[1]))\n",
    "clf_100tree.fit(x_data, y_data)"
   ]
  },
  {
   "cell_type": "code",
   "execution_count": null,
   "metadata": {},
   "outputs": [
    {
     "name": "stdout",
     "output_type": "stream",
     "text": [
      "random forest, n_estimators=10:\n",
      "acc:  0.91\n",
      "random forest, n_estimators=100:\n",
      "acc:  0.9299999999999999\n"
     ]
    }
   ],
   "source": [
    "pred_10 = clf_10tree.predict(x_val)\n",
    "print(\"random forest, n_estimators=10:\")\n",
    "clf_10tree.acc(pred_10, y_val)\n",
    "\n",
    "print(\"random forest, n_estimators=100:\")\n",
    "pred_100 = clf_100tree.predict(x_val)\n",
    "clf_100tree.acc(pred_100, y_val)"
   ]
  },
  {
   "cell_type": "markdown",
   "metadata": {},
   "source": [
    "### Question 5.2\n",
    "Using `criterion=gini`, `max_depth=None`, `n_estimators=10`, showing the accuracy score of validation data by `max_features=sqrt(n_features)` and `max_features=n_features`, respectively.\n"
   ]
  },
  {
   "cell_type": "code",
   "execution_count": null,
   "metadata": {},
   "outputs": [],
   "source": [
    "clf_random_features = RandomForest(n_estimators=10, max_features=np.sqrt(x_data.shape[1]))\n",
    "clf_random_features.fit(x_data, y_data)\n",
    "\n",
    "clf_all_features = RandomForest(n_estimators=10, max_features=x_data.shape[1])\n",
    "clf_all_features.fit(x_data, y_data)"
   ]
  },
  {
   "cell_type": "markdown",
   "metadata": {},
   "source": [
    "- Note: Use majority votes to get the final prediction, you may get slightly different results when re-building the random forest model"
   ]
  },
  {
   "cell_type": "code",
   "execution_count": null,
   "metadata": {},
   "outputs": [
    {
     "name": "stdout",
     "output_type": "stream",
     "text": [
      "random forest,  max_features=np.sqrt(n_features):\n",
      "acc:  0.8966666666666667\n",
      "random forest,  max_features=n_features:\n",
      "acc:  0.9299999999999999\n"
     ]
    }
   ],
   "source": [
    "pred_r = clf_random_features.predict(x_val)\n",
    "print(\"random forest,  max_features=np.sqrt(n_features):\")\n",
    "clf_random_features.acc(pred_r, y_val)\n",
    "\n",
    "\n",
    "pred_a = clf_all_features.predict(x_val)\n",
    "print(\"random forest,  max_features=n_features:\")\n",
    "clf_all_features.acc(pred_a, y_val)"
   ]
  },
  {
   "cell_type": "code",
   "execution_count": null,
   "metadata": {},
   "outputs": [],
   "source": [
    "clf_all_features = RandomForest(n_estimators=100, max_features=x_data.shape[1])\n",
    "clf_all_features.fit(x_data, y_data)"
   ]
  },
  {
   "cell_type": "code",
   "execution_count": null,
   "metadata": {},
   "outputs": [
    {
     "name": "stdout",
     "output_type": "stream",
     "text": [
      "random forest,  n=100, max_features=n_features:\n",
      "acc:  0.9366666666666666\n"
     ]
    }
   ],
   "source": [
    "pred_a = clf_all_features.predict(x_val)\n",
    "print(\"random forest,  n=100, max_features=n_features:\")\n",
    "clf_all_features.acc(pred_a, y_val)"
   ]
  },
  {
   "cell_type": "code",
   "execution_count": null,
   "metadata": {},
   "outputs": [],
   "source": [
    "clf_all_e = RandomForest(n_estimators=100, max_features=x_data.shape[1], criterion='entropy')\n",
    "clf_all_e.fit(x_data, y_data)"
   ]
  },
  {
   "cell_type": "code",
   "execution_count": null,
   "metadata": {},
   "outputs": [
    {
     "name": "stdout",
     "output_type": "stream",
     "text": [
      "random forest,  n=100, max_features=n_features, entropy:\n",
      "acc:  0.9299999999999999\n"
     ]
    }
   ],
   "source": [
    "pred_a = clf_all_e.predict(x_val)\n",
    "print(\"random forest,  n=100, max_features=n_features, entropy:\")\n",
    "clf_all_e.acc(pred_a, y_val)"
   ]
  },
  {
   "cell_type": "markdown",
   "metadata": {},
   "source": [
    "### Question 6. Train and tune your model on a real-world dataset\n",
    "Try you best to get higher accuracy score of your model. After parameter tuning, you can train your model on the full dataset (train + val).\n",
    "- Feature engineering\n",
    "- Hyperparameter tuning\n",
    "- Implement any other ensemble methods, such as gradient boosting. Please note that you **can not** call any package. Also, only ensemble method can be used. Neural network method is not allowed to used."
   ]
  },
  {
   "cell_type": "code",
   "execution_count": 27,
   "metadata": {},
   "outputs": [],
   "source": [
    "import pickle\n",
    "def train_your_model(data):\n",
    "    ## Define your model and training \n",
    "    x_data, y_data = to_nparray(data)\n",
    "    my_model = RandomForest(n_estimators=100, max_features=x_data.shape[1])\n",
    "    my_model.fit(x_data, y_data)\n",
    "\n",
    "    return my_model"
   ]
  },
  {
   "cell_type": "code",
   "execution_count": 23,
   "metadata": {},
   "outputs": [],
   "source": [
    "all_data = pd.concat([train_df,val_df])\n",
    "my_model = train_your_model(all_data)"
   ]
  },
  {
   "cell_type": "code",
   "execution_count": 30,
   "metadata": {},
   "outputs": [],
   "source": [
    "x_test_df = pd.read_csv('x_test.csv')\n",
    "x_test = x_test_df.values\n",
    "y_pred = my_model.predict(x_test)"
   ]
  },
  {
   "cell_type": "code",
   "execution_count": 25,
   "metadata": {},
   "outputs": [],
   "source": [
    "assert y_pred.shape == (500, )"
   ]
  },
  {
   "cell_type": "code",
   "execution_count": 29,
   "metadata": {},
   "outputs": [],
   "source": [
    "with open('model.pickle', 'wb') as pkl_file:\n",
    "    pickle.dump(my_model, pkl_file, protocol=pickle.HIGHEST_PROTOCOL)\n",
    "\n",
    "np.save(\"y_pred.npy\", y_pred)"
   ]
  },
  {
   "cell_type": "markdown",
   "metadata": {},
   "source": [
    "## Supplementary\n",
    "If you have trouble to implement this homework, TA strongly recommend watching [this video](https://www.youtube.com/watch?v=LDRbO9a6XPU), which explains Decision Tree model clearly. But don't copy code from any resources, try to finish this homework by yourself! "
   ]
  },
  {
   "cell_type": "markdown",
   "metadata": {},
   "source": [
    "### DO NOT MODIFY CODE BELOW"
   ]
  },
  {
   "cell_type": "code",
   "execution_count": null,
   "metadata": {},
   "outputs": [
    {
     "ename": "FileNotFoundError",
     "evalue": "[Errno 2] No such file or directory: 'y_test.csv'",
     "output_type": "error",
     "traceback": [
      "\u001b[1;31m---------------------------------------------------------------------------\u001b[0m",
      "\u001b[1;31mFileNotFoundError\u001b[0m                         Traceback (most recent call last)",
      "Cell \u001b[1;32mIn [28], line 3\u001b[0m\n\u001b[0;32m      1\u001b[0m \u001b[39mimport\u001b[39;00m \u001b[39mpandas\u001b[39;00m \u001b[39mas\u001b[39;00m \u001b[39mpd\u001b[39;00m\n\u001b[0;32m      2\u001b[0m \u001b[39mfrom\u001b[39;00m \u001b[39msklearn\u001b[39;00m\u001b[39m.\u001b[39;00m\u001b[39mmetrics\u001b[39;00m \u001b[39mimport\u001b[39;00m accuracy_score\n\u001b[1;32m----> 3\u001b[0m y_test \u001b[39m=\u001b[39m pd\u001b[39m.\u001b[39;49mread_csv(\u001b[39m'\u001b[39;49m\u001b[39my_test.csv\u001b[39;49m\u001b[39m'\u001b[39;49m)[\u001b[39m'\u001b[39m\u001b[39mprice_range\u001b[39m\u001b[39m'\u001b[39m]\u001b[39m.\u001b[39mvalues\n\u001b[0;32m      5\u001b[0m \u001b[39mprint\u001b[39m(\u001b[39m'\u001b[39m\u001b[39mTest-set accuarcy score: \u001b[39m\u001b[39m'\u001b[39m, accuracy_score(y_test, y_pred))\n",
      "File \u001b[1;32m~\\AppData\\Local\\Packages\\PythonSoftwareFoundation.Python.3.10_qbz5n2kfra8p0\\LocalCache\\local-packages\\Python310\\site-packages\\pandas\\util\\_decorators.py:211\u001b[0m, in \u001b[0;36mdeprecate_kwarg.<locals>._deprecate_kwarg.<locals>.wrapper\u001b[1;34m(*args, **kwargs)\u001b[0m\n\u001b[0;32m    209\u001b[0m     \u001b[39melse\u001b[39;00m:\n\u001b[0;32m    210\u001b[0m         kwargs[new_arg_name] \u001b[39m=\u001b[39m new_arg_value\n\u001b[1;32m--> 211\u001b[0m \u001b[39mreturn\u001b[39;00m func(\u001b[39m*\u001b[39margs, \u001b[39m*\u001b[39m\u001b[39m*\u001b[39mkwargs)\n",
      "File \u001b[1;32m~\\AppData\\Local\\Packages\\PythonSoftwareFoundation.Python.3.10_qbz5n2kfra8p0\\LocalCache\\local-packages\\Python310\\site-packages\\pandas\\util\\_decorators.py:317\u001b[0m, in \u001b[0;36mdeprecate_nonkeyword_arguments.<locals>.decorate.<locals>.wrapper\u001b[1;34m(*args, **kwargs)\u001b[0m\n\u001b[0;32m    311\u001b[0m \u001b[39mif\u001b[39;00m \u001b[39mlen\u001b[39m(args) \u001b[39m>\u001b[39m num_allow_args:\n\u001b[0;32m    312\u001b[0m     warnings\u001b[39m.\u001b[39mwarn(\n\u001b[0;32m    313\u001b[0m         msg\u001b[39m.\u001b[39mformat(arguments\u001b[39m=\u001b[39marguments),\n\u001b[0;32m    314\u001b[0m         \u001b[39mFutureWarning\u001b[39;00m,\n\u001b[0;32m    315\u001b[0m         stacklevel\u001b[39m=\u001b[39mfind_stack_level(inspect\u001b[39m.\u001b[39mcurrentframe()),\n\u001b[0;32m    316\u001b[0m     )\n\u001b[1;32m--> 317\u001b[0m \u001b[39mreturn\u001b[39;00m func(\u001b[39m*\u001b[39margs, \u001b[39m*\u001b[39m\u001b[39m*\u001b[39mkwargs)\n",
      "File \u001b[1;32m~\\AppData\\Local\\Packages\\PythonSoftwareFoundation.Python.3.10_qbz5n2kfra8p0\\LocalCache\\local-packages\\Python310\\site-packages\\pandas\\io\\parsers\\readers.py:950\u001b[0m, in \u001b[0;36mread_csv\u001b[1;34m(filepath_or_buffer, sep, delimiter, header, names, index_col, usecols, squeeze, prefix, mangle_dupe_cols, dtype, engine, converters, true_values, false_values, skipinitialspace, skiprows, skipfooter, nrows, na_values, keep_default_na, na_filter, verbose, skip_blank_lines, parse_dates, infer_datetime_format, keep_date_col, date_parser, dayfirst, cache_dates, iterator, chunksize, compression, thousands, decimal, lineterminator, quotechar, quoting, doublequote, escapechar, comment, encoding, encoding_errors, dialect, error_bad_lines, warn_bad_lines, on_bad_lines, delim_whitespace, low_memory, memory_map, float_precision, storage_options)\u001b[0m\n\u001b[0;32m    935\u001b[0m kwds_defaults \u001b[39m=\u001b[39m _refine_defaults_read(\n\u001b[0;32m    936\u001b[0m     dialect,\n\u001b[0;32m    937\u001b[0m     delimiter,\n\u001b[1;32m   (...)\u001b[0m\n\u001b[0;32m    946\u001b[0m     defaults\u001b[39m=\u001b[39m{\u001b[39m\"\u001b[39m\u001b[39mdelimiter\u001b[39m\u001b[39m\"\u001b[39m: \u001b[39m\"\u001b[39m\u001b[39m,\u001b[39m\u001b[39m\"\u001b[39m},\n\u001b[0;32m    947\u001b[0m )\n\u001b[0;32m    948\u001b[0m kwds\u001b[39m.\u001b[39mupdate(kwds_defaults)\n\u001b[1;32m--> 950\u001b[0m \u001b[39mreturn\u001b[39;00m _read(filepath_or_buffer, kwds)\n",
      "File \u001b[1;32m~\\AppData\\Local\\Packages\\PythonSoftwareFoundation.Python.3.10_qbz5n2kfra8p0\\LocalCache\\local-packages\\Python310\\site-packages\\pandas\\io\\parsers\\readers.py:605\u001b[0m, in \u001b[0;36m_read\u001b[1;34m(filepath_or_buffer, kwds)\u001b[0m\n\u001b[0;32m    602\u001b[0m _validate_names(kwds\u001b[39m.\u001b[39mget(\u001b[39m\"\u001b[39m\u001b[39mnames\u001b[39m\u001b[39m\"\u001b[39m, \u001b[39mNone\u001b[39;00m))\n\u001b[0;32m    604\u001b[0m \u001b[39m# Create the parser.\u001b[39;00m\n\u001b[1;32m--> 605\u001b[0m parser \u001b[39m=\u001b[39m TextFileReader(filepath_or_buffer, \u001b[39m*\u001b[39m\u001b[39m*\u001b[39mkwds)\n\u001b[0;32m    607\u001b[0m \u001b[39mif\u001b[39;00m chunksize \u001b[39mor\u001b[39;00m iterator:\n\u001b[0;32m    608\u001b[0m     \u001b[39mreturn\u001b[39;00m parser\n",
      "File \u001b[1;32m~\\AppData\\Local\\Packages\\PythonSoftwareFoundation.Python.3.10_qbz5n2kfra8p0\\LocalCache\\local-packages\\Python310\\site-packages\\pandas\\io\\parsers\\readers.py:1442\u001b[0m, in \u001b[0;36mTextFileReader.__init__\u001b[1;34m(self, f, engine, **kwds)\u001b[0m\n\u001b[0;32m   1439\u001b[0m     \u001b[39mself\u001b[39m\u001b[39m.\u001b[39moptions[\u001b[39m\"\u001b[39m\u001b[39mhas_index_names\u001b[39m\u001b[39m\"\u001b[39m] \u001b[39m=\u001b[39m kwds[\u001b[39m\"\u001b[39m\u001b[39mhas_index_names\u001b[39m\u001b[39m\"\u001b[39m]\n\u001b[0;32m   1441\u001b[0m \u001b[39mself\u001b[39m\u001b[39m.\u001b[39mhandles: IOHandles \u001b[39m|\u001b[39m \u001b[39mNone\u001b[39;00m \u001b[39m=\u001b[39m \u001b[39mNone\u001b[39;00m\n\u001b[1;32m-> 1442\u001b[0m \u001b[39mself\u001b[39m\u001b[39m.\u001b[39m_engine \u001b[39m=\u001b[39m \u001b[39mself\u001b[39;49m\u001b[39m.\u001b[39;49m_make_engine(f, \u001b[39mself\u001b[39;49m\u001b[39m.\u001b[39;49mengine)\n",
      "File \u001b[1;32m~\\AppData\\Local\\Packages\\PythonSoftwareFoundation.Python.3.10_qbz5n2kfra8p0\\LocalCache\\local-packages\\Python310\\site-packages\\pandas\\io\\parsers\\readers.py:1729\u001b[0m, in \u001b[0;36mTextFileReader._make_engine\u001b[1;34m(self, f, engine)\u001b[0m\n\u001b[0;32m   1727\u001b[0m     is_text \u001b[39m=\u001b[39m \u001b[39mFalse\u001b[39;00m\n\u001b[0;32m   1728\u001b[0m     mode \u001b[39m=\u001b[39m \u001b[39m\"\u001b[39m\u001b[39mrb\u001b[39m\u001b[39m\"\u001b[39m\n\u001b[1;32m-> 1729\u001b[0m \u001b[39mself\u001b[39m\u001b[39m.\u001b[39mhandles \u001b[39m=\u001b[39m get_handle(\n\u001b[0;32m   1730\u001b[0m     f,\n\u001b[0;32m   1731\u001b[0m     mode,\n\u001b[0;32m   1732\u001b[0m     encoding\u001b[39m=\u001b[39;49m\u001b[39mself\u001b[39;49m\u001b[39m.\u001b[39;49moptions\u001b[39m.\u001b[39;49mget(\u001b[39m\"\u001b[39;49m\u001b[39mencoding\u001b[39;49m\u001b[39m\"\u001b[39;49m, \u001b[39mNone\u001b[39;49;00m),\n\u001b[0;32m   1733\u001b[0m     compression\u001b[39m=\u001b[39;49m\u001b[39mself\u001b[39;49m\u001b[39m.\u001b[39;49moptions\u001b[39m.\u001b[39;49mget(\u001b[39m\"\u001b[39;49m\u001b[39mcompression\u001b[39;49m\u001b[39m\"\u001b[39;49m, \u001b[39mNone\u001b[39;49;00m),\n\u001b[0;32m   1734\u001b[0m     memory_map\u001b[39m=\u001b[39;49m\u001b[39mself\u001b[39;49m\u001b[39m.\u001b[39;49moptions\u001b[39m.\u001b[39;49mget(\u001b[39m\"\u001b[39;49m\u001b[39mmemory_map\u001b[39;49m\u001b[39m\"\u001b[39;49m, \u001b[39mFalse\u001b[39;49;00m),\n\u001b[0;32m   1735\u001b[0m     is_text\u001b[39m=\u001b[39;49mis_text,\n\u001b[0;32m   1736\u001b[0m     errors\u001b[39m=\u001b[39;49m\u001b[39mself\u001b[39;49m\u001b[39m.\u001b[39;49moptions\u001b[39m.\u001b[39;49mget(\u001b[39m\"\u001b[39;49m\u001b[39mencoding_errors\u001b[39;49m\u001b[39m\"\u001b[39;49m, \u001b[39m\"\u001b[39;49m\u001b[39mstrict\u001b[39;49m\u001b[39m\"\u001b[39;49m),\n\u001b[0;32m   1737\u001b[0m     storage_options\u001b[39m=\u001b[39;49m\u001b[39mself\u001b[39;49m\u001b[39m.\u001b[39;49moptions\u001b[39m.\u001b[39;49mget(\u001b[39m\"\u001b[39;49m\u001b[39mstorage_options\u001b[39;49m\u001b[39m\"\u001b[39;49m, \u001b[39mNone\u001b[39;49;00m),\n\u001b[0;32m   1738\u001b[0m )\n\u001b[0;32m   1739\u001b[0m \u001b[39massert\u001b[39;00m \u001b[39mself\u001b[39m\u001b[39m.\u001b[39mhandles \u001b[39mis\u001b[39;00m \u001b[39mnot\u001b[39;00m \u001b[39mNone\u001b[39;00m\n\u001b[0;32m   1740\u001b[0m f \u001b[39m=\u001b[39m \u001b[39mself\u001b[39m\u001b[39m.\u001b[39mhandles\u001b[39m.\u001b[39mhandle\n",
      "File \u001b[1;32m~\\AppData\\Local\\Packages\\PythonSoftwareFoundation.Python.3.10_qbz5n2kfra8p0\\LocalCache\\local-packages\\Python310\\site-packages\\pandas\\io\\common.py:857\u001b[0m, in \u001b[0;36mget_handle\u001b[1;34m(path_or_buf, mode, encoding, compression, memory_map, is_text, errors, storage_options)\u001b[0m\n\u001b[0;32m    852\u001b[0m \u001b[39melif\u001b[39;00m \u001b[39misinstance\u001b[39m(handle, \u001b[39mstr\u001b[39m):\n\u001b[0;32m    853\u001b[0m     \u001b[39m# Check whether the filename is to be opened in binary mode.\u001b[39;00m\n\u001b[0;32m    854\u001b[0m     \u001b[39m# Binary mode does not support 'encoding' and 'newline'.\u001b[39;00m\n\u001b[0;32m    855\u001b[0m     \u001b[39mif\u001b[39;00m ioargs\u001b[39m.\u001b[39mencoding \u001b[39mand\u001b[39;00m \u001b[39m\"\u001b[39m\u001b[39mb\u001b[39m\u001b[39m\"\u001b[39m \u001b[39mnot\u001b[39;00m \u001b[39min\u001b[39;00m ioargs\u001b[39m.\u001b[39mmode:\n\u001b[0;32m    856\u001b[0m         \u001b[39m# Encoding\u001b[39;00m\n\u001b[1;32m--> 857\u001b[0m         handle \u001b[39m=\u001b[39m \u001b[39mopen\u001b[39;49m(\n\u001b[0;32m    858\u001b[0m             handle,\n\u001b[0;32m    859\u001b[0m             ioargs\u001b[39m.\u001b[39;49mmode,\n\u001b[0;32m    860\u001b[0m             encoding\u001b[39m=\u001b[39;49mioargs\u001b[39m.\u001b[39;49mencoding,\n\u001b[0;32m    861\u001b[0m             errors\u001b[39m=\u001b[39;49merrors,\n\u001b[0;32m    862\u001b[0m             newline\u001b[39m=\u001b[39;49m\u001b[39m\"\u001b[39;49m\u001b[39m\"\u001b[39;49m,\n\u001b[0;32m    863\u001b[0m         )\n\u001b[0;32m    864\u001b[0m     \u001b[39melse\u001b[39;00m:\n\u001b[0;32m    865\u001b[0m         \u001b[39m# Binary mode\u001b[39;00m\n\u001b[0;32m    866\u001b[0m         handle \u001b[39m=\u001b[39m \u001b[39mopen\u001b[39m(handle, ioargs\u001b[39m.\u001b[39mmode)\n",
      "\u001b[1;31mFileNotFoundError\u001b[0m: [Errno 2] No such file or directory: 'y_test.csv'"
     ]
    }
   ],
   "source": [
    "import pandas as pd\n",
    "from sklearn.metrics import accuracy_score\n",
    "y_test = pd.read_csv('y_test.csv')['price_range'].values\n",
    "\n",
    "print('Test-set accuarcy score: ', accuracy_score(y_test, y_pred))"
   ]
  },
  {
   "cell_type": "code",
   "execution_count": null,
   "metadata": {},
   "outputs": [],
   "source": []
  },
  {
   "cell_type": "code",
   "execution_count": null,
   "metadata": {},
   "outputs": [
    {
     "name": "stdout",
     "output_type": "stream",
     "text": [
      "15.0\n",
      "*** We will check your result for Question 3 manually *** (5 points)\n",
      "22.5\n",
      "30.0\n",
      "35.0\n",
      "40.0\n",
      "RandomForest(n_estimators=10, max_features=n_features) failed\n",
      "Considering the randomness, we will check it manually\n",
      "40.0\n",
      "*** We will check your result for Question 6 manually *** (20 points)\n",
      "Approximate score range: 40.0 ~ 65.0\n",
      "*** This score is only for reference ***\n"
     ]
    }
   ],
   "source": [
    "def discrete_checker(score, thres, clf, name, x_train, y_train, x_test, y_test):\n",
    "    clf.fit(x_train, y_train)\n",
    "    y_pred = clf.predict(x_test)\n",
    "    if accuracy_score(y_test, y_pred) - thres >= 0:\n",
    "        return score\n",
    "    else:\n",
    "        print(f\"{name} failed\")\n",
    "        return 0\n",
    "\n",
    "\n",
    "def patient_checker(score, thres, CLS, kwargs, name,\n",
    "                    x_train, y_train, x_test, y_test, patient=10):\n",
    "    while patient > 0:\n",
    "        patient -= 1\n",
    "        clf = CLS(**kwargs)\n",
    "        clf.fit(x_train, y_train)\n",
    "        y_pred = clf.predict(x_test)\n",
    "        if accuracy_score(y_test, y_pred) - thres >= 0:\n",
    "            return score\n",
    "    print(f\"{name} failed\")\n",
    "    print(\"Considering the randomness, we will check it manually\")\n",
    "    return 0\n",
    "\n",
    "\n",
    "def load_dataset():\n",
    "    file_url = \"http://storage.googleapis.com/download.tensorflow.org/data/abalone_train.csv\"\n",
    "    df = pd.read_csv(\n",
    "        file_url,\n",
    "        names=[\"Length\", \"Diameter\", \"Height\", \"Whole weight\", \"Shucked weight\",\n",
    "               \"Viscera weight\", \"Shell weight\", \"Age\"]\n",
    "    )\n",
    "\n",
    "    df['Target'] = (df[\"Age\"] > 15).astype(int)\n",
    "    df = df.drop(labels=[\"Age\"], axis=\"columns\")\n",
    "\n",
    "    train_idx = range(0, len(df), 10)\n",
    "    test_idx = range(1, len(df), 20)\n",
    "\n",
    "    train_df = df.iloc[train_idx]\n",
    "    test_df = df.iloc[test_idx]\n",
    "\n",
    "    x_train = train_df.drop(labels=[\"Target\"], axis=\"columns\")\n",
    "    feature_names = x_train.columns.values\n",
    "    x_train = x_train.values\n",
    "    y_train = train_df['Target'].values\n",
    "\n",
    "    x_test = test_df.drop(labels=[\"Target\"], axis=\"columns\")\n",
    "    x_test = x_test.values\n",
    "    y_test = test_df['Target'].values\n",
    "    return x_train, y_train, x_test, y_test, feature_names\n",
    "\n",
    "\n",
    "score = 0\n",
    "\n",
    "data = np.array([1, 2])\n",
    "if abs(gini(data) - 0.5) < 1e-4:\n",
    "    score += 2.5\n",
    "else:\n",
    "    print(\"gini test failed\")\n",
    "\n",
    "if abs(entropy(data) - 1) < 1e-4:\n",
    "    score += 2.5\n",
    "else:\n",
    "    print(\"entropy test failed\")\n",
    "\n",
    "x_train, y_train, x_test, y_test, feature_names = load_dataset()\n",
    "\n",
    "score += discrete_checker(5, 0.9337,\n",
    "                          DecisionTree(criterion='gini', max_depth=3),\n",
    "                          \"DecisionTree(criterion='gini', max_depth=3)\",\n",
    "                          x_train, y_train, x_test, y_test\n",
    "                          )\n",
    "\n",
    "score += discrete_checker(2.5, 0.9036,\n",
    "                          DecisionTree(criterion='gini', max_depth=10),\n",
    "                          \"DecisionTree(criterion='gini', max_depth=10)\",\n",
    "                          x_train, y_train, x_test, y_test\n",
    "                          )\n",
    "\n",
    "score += discrete_checker(2.5, 0.9096,\n",
    "                          DecisionTree(criterion='entropy', max_depth=3),\n",
    "                          \"DecisionTree(criterion='entropy', max_depth=3)\",\n",
    "                          x_train, y_train, x_test, y_test\n",
    "                          )\n",
    "\n",
    "print(\"*** We will check your result for Question 3 manually *** (5 points)\")\n",
    "\n",
    "score += patient_checker(\n",
    "    7.5, 0.91, AdaBoost, {\"n_estimators\": 10},\n",
    "    \"AdaBoost(n_estimators=10)\",\n",
    "    x_train, y_train, x_test, y_test\n",
    ")\n",
    "\n",
    "score += patient_checker(\n",
    "    7.5, 0.87, AdaBoost, {\"n_estimators\": 100},\n",
    "    \"AdaBoost(n_estimators=100)\",\n",
    "    x_train, y_train, x_test, y_test\n",
    ")\n",
    "\n",
    "score += patient_checker(\n",
    "    5, 0.91, RandomForest,\n",
    "    {\"n_estimators\": 10, \"max_features\": np.sqrt(x_train.shape[1])},\n",
    "    \"RandomForest(n_estimators=10, max_features=sqrt(n_features))\",\n",
    "    x_train, y_train, x_test, y_test\n",
    ")\n",
    "\n",
    "score += patient_checker(\n",
    "    5, 0.91, RandomForest,\n",
    "    {\"n_estimators\": 100, \"max_features\": np.sqrt(x_train.shape[1])},\n",
    "    \"RandomForest(n_estimators=100, max_features=sqrt(n_features))\",\n",
    "    x_train, y_train, x_test, y_test\n",
    ")\n",
    "\n",
    "score += patient_checker(\n",
    "    5, 0.92, RandomForest,\n",
    "    {\"n_estimators\": 10, \"max_features\": x_train.shape[1]},\n",
    "    \"RandomForest(n_estimators=10, max_features=n_features)\",\n",
    "    x_train, y_train, x_test, y_test\n",
    ")\n",
    "\n",
    "print(\"*** We will check your result for Question 6 manually *** (20 points)\")\n",
    "print(\"Approximate score range:\", score, \"~\", score + 25)\n",
    "print(\"*** This score is only for reference ***\")\n"
   ]
  },
  {
   "cell_type": "code",
   "execution_count": null,
   "metadata": {},
   "outputs": [],
   "source": [
    "print(score)"
   ]
  }
 ],
 "metadata": {
  "kernelspec": {
   "display_name": "Python 3.10.8 64-bit (microsoft store)",
   "language": "python",
   "name": "python3"
  },
  "language_info": {
   "codemirror_mode": {
    "name": "ipython",
    "version": 3
   },
   "file_extension": ".py",
   "mimetype": "text/x-python",
   "name": "python",
   "nbconvert_exporter": "python",
   "pygments_lexer": "ipython3",
   "version": "3.10.8"
  },
  "vscode": {
   "interpreter": {
    "hash": "66eba28a75a64fbe1a9b9c30d27f7c856726c51cbbef86297708eae4ce175db0"
   }
  }
 },
 "nbformat": 4,
 "nbformat_minor": 4
}
